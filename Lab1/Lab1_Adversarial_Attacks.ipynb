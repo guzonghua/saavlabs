{
  "nbformat": 4,
  "nbformat_minor": 0,
  "metadata": {
    "colab": {
      "provenance": [],
      "collapsed_sections": [],
      "authorship_tag": "ABX9TyPdV/PtfUOUfI5W9cK3K5Q3",
      "include_colab_link": true
    },
    "kernelspec": {
      "name": "python3",
      "display_name": "Python 3"
    },
    "language_info": {
      "name": "python"
    }
  },
  "cells": [
    {
      "cell_type": "markdown",
      "metadata": {
        "id": "view-in-github",
        "colab_type": "text"
      },
      "source": [
        "<a href=\"https://colab.research.google.com/github/guzonghua/saavlabs/blob/main/Lab1/Lab1_Adversarial_Attacks.ipynb\" target=\"_parent\"><img src=\"https://colab.research.google.com/assets/colab-badge.svg\" alt=\"Open In Colab\"/></a>"
      ]
    },
    {
      "cell_type": "code",
      "execution_count": null,
      "metadata": {
        "id": "wHsNTqJxLTwN"
      },
      "outputs": [],
      "source": [
        "Step 1. This blog article and source code describes how to train a model for Traffic Sign Recognition through fine-tuning a pretrained MobileNetV3 Large model \n",
        "Traffic Sign Recognition using PyTorch and Deep Learning\n",
        "https://debuggercafe.com/traffic-sign-recognition-using-pytorch-and-deep-learning/\n",
        "Please follow his steps to train a model for Traffic Sign Recognition. To save training time, you may use the MobileNetV3 Small model instead of MobileNetV3 Large:\n",
        "https://pytorch.org/vision/main/models/generated/torchvision.models.mobilenet_v3_small.html\n",
        "By having this line in model.py: \n",
        "model = models.mobilenet_v3_small(pretrained=pretrained)\n",
        "Step 2. Follow the steps in \"Chapter 3 - Adversarial examples, solving the inner maximization\" in the tutorial \"Adversarial Robustness - Theory and Practice\" 2018 to create attack images:\n",
        "https://adversarial-ml-tutorial.org/adversarial_examples/\n",
        "Use your trained CNN, perform the following steps: \n",
        "2.1 Untargeted attack using Fast Gradient Sign Method (FGSM), using the function fgsm().\n",
        "2.2 Untargeted attack using Projected Gradient Descent, using the function pgd_linf() (use the Projected Steepest Descent variant to accelerate the process).\n",
        "2.3 Targeted attack using Projected Gradient Descent, using the function pgd_linf_targ(), which aims to maximize logit of the target class y_targ and minimize logit of the true class y. You may choose any target class, but I suggest using \"Speed Limit\".\n",
        "2.4 Targeted attack using Projected Gradient Descent, using the function pgd_linf_targ2(),  which  aims to maximize logit of the target class y_targ and minimize logit of all the other classes y'.\n",
        "For each attack, report the accuracy of the attacked classifier on the testset, and show visualization of a few examples of successful attack (original image and attacked image). \n",
        "Put everything in one ipynb file and submit it, along with a short report in PDF containing the test accuracy and visualization of examples, as well as any problems you encountered or any insights you want to share. You may choose to embed the report within the ipynb file, execute it to show all results, then and print it as PDF, or you may write it separately. You may use either Google CoLab or your local machine. "
      ]
    },
    {
      "cell_type": "markdown",
      "source": [],
      "metadata": {
        "id": "-7ZmKlq8P3Uq"
      }
    }
  ]
}