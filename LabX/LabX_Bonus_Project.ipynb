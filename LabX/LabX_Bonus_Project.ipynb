{
  "nbformat": 4,
  "nbformat_minor": 0,
  "metadata": {
    "colab": {
      "provenance": [],
      "collapsed_sections": [],
      "authorship_tag": "ABX9TyO6cbqYNQ+TniFLbrMBuflc",
      "include_colab_link": true
    },
    "kernelspec": {
      "name": "python3",
      "display_name": "Python 3"
    },
    "language_info": {
      "name": "python"
    }
  },
  "cells": [
    {
      "cell_type": "markdown",
      "metadata": {
        "id": "view-in-github",
        "colab_type": "text"
      },
      "source": [
        "<a href=\"https://colab.research.google.com/github/guzonghua/saavlabs/blob/main/LabX/LabX_Bonus_Project.ipynb\" target=\"_parent\"><img src=\"https://colab.research.google.com/assets/colab-badge.svg\" alt=\"Open In Colab\"/></a>"
      ]
    },
    {
      "cell_type": "markdown",
      "source": [
        "Please submit a proposal if you plan to work on a bonus project during the summer. The proposal should be at most 2 pages long, and describe some technical details of your proposed project, including background, related work, proposed work and why it is novel and interesting. Please use this template:\n",
        "\n",
        "https://www.ieee.org/conferences/publishing/templates.html\n",
        "\n",
        "You may freely choose the project topic, as long as it is related to some topics covered in this course, not necessarily strictly related to autonomous vehicles, e.g., computer vision (classification, object detection, segmentation), reinforcement learning (with highway-env, CARLA or some other simulator), The goal is to give you a chance to explore your own interests based on what you have learned in the course. For those who choose to do the bonus project:\n",
        "\n",
        "1. Submit a short project proposal in canvas before Dec 16, and I will approve or disapprove it.\n",
        "\n",
        "2. Submit the project report and source code before TBD. Your grade will be assigned afterwards.\n",
        "\n",
        "If you do not submit a proposal, then you will not work on the bonus project."
      ],
      "metadata": {
        "id": "AAWU_kGYSb-w"
      }
    }
  ]
}